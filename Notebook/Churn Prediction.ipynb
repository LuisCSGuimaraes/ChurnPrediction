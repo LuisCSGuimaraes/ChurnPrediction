{
 "cells": [
  {
   "cell_type": "markdown",
   "metadata": {},
   "source": [
    "<img alt=\"Banner\" width=\"100%\" src=\"https://raw.githubusercontent.com/LuisCSGuimaraes/ChurnPrediction/main/Images/Banner.png\">\n",
    "\n",
    "\n",
    "*Um projeto inspirado por:*\n",
    "\n",
    "<img alt=\"Sigmoidal logo\" width=\"10%\" src=\"https://raw.githubusercontent.com/carlosfab/escola-data-science/master/img/novo_logo_bg_claro.png\">\n",
    "\n",
    "**Data Science na Prática**\n",
    "*by [sigmoidal.ai](https://sigmoidal.ai)*\n"
   ]
  },
  {
   "cell_type": "code",
   "execution_count": null,
   "metadata": {},
   "outputs": [],
   "source": []
  }
 ],
 "metadata": {
  "interpreter": {
   "hash": "9f0e3fb4a5e33ab5bb2f60a32d46246dcdd38f38c40a857e9ce8b98f498e57fa"
  },
  "kernelspec": {
   "display_name": "Python 3.7.4 32-bit",
   "language": "python",
   "name": "python3"
  },
  "language_info": {
   "codemirror_mode": {
    "name": "ipython",
    "version": 3
   },
   "file_extension": ".py",
   "mimetype": "text/x-python",
   "name": "python",
   "nbconvert_exporter": "python",
   "pygments_lexer": "ipython3",
   "version": "3.7.4"
  },
  "orig_nbformat": 4
 },
 "nbformat": 4,
 "nbformat_minor": 2
}
